{
 "cells": [
  {
   "cell_type": "code",
   "execution_count": 1,
   "metadata": {},
   "outputs": [],
   "source": [
    "# Dependencies\n",
    "import matplotlib.pyplot as plt\n",
    "import pandas as pd\n",
    "import scipy.stats as st\n",
    "import os\n",
    "import numpy as np\n",
    "import random"
   ]
  },
  {
   "cell_type": "code",
   "execution_count": 2,
   "metadata": {},
   "outputs": [],
   "source": [
    "# creating file paths to csv files\n",
    "mouse_file = os.path.join('data','Mouse_metadata.csv')\n",
    "study_file = os.path.join('data','Study_results.csv')\n",
    "#creating dataframes for each file\n",
    "mouse_df = pd.read_csv(mouse_file)\n",
    "study_results_df = pd.read_csv(study_file)\n",
    "# study_results_df.head()"
   ]
  },
  {
   "cell_type": "code",
   "execution_count": 3,
   "metadata": {},
   "outputs": [],
   "source": [
    "# mouse_df.head()"
   ]
  },
  {
   "cell_type": "code",
   "execution_count": 4,
   "metadata": {},
   "outputs": [],
   "source": [
    "# creating (inner) merged data frame using Mouse ID common thing \n",
    "mice_study = mouse_df.merge(study_results_df, on='Mouse ID', how='inner')\n",
    "# mice_study.head()"
   ]
  },
  {
   "cell_type": "code",
   "execution_count": 5,
   "metadata": {},
   "outputs": [
    {
     "data": {
      "text/plain": [
       "249"
      ]
     },
     "execution_count": 5,
     "metadata": {},
     "output_type": "execute_result"
    }
   ],
   "source": [
    "mice_study['Mouse ID'].nunique()"
   ]
  },
  {
   "cell_type": "markdown",
   "metadata": {},
   "source": [
    "### Cleaning Data"
   ]
  },
  {
   "cell_type": "code",
   "execution_count": 6,
   "metadata": {},
   "outputs": [],
   "source": [
    "# this was my old way of cleaning up the data (getting rid of that mouse that was doubled)\n",
    "# it worked but te new way i think works better.\n",
    "\n",
    "# get mouse id for duplicate time points\n",
    "# mouse_bool = mice_study[['Mouse ID','Timepoint']].duplicated()\n",
    "# mouse_bool.head()\n",
    "# mouse_id = [mice_study['Mouse ID'][cheese] for cheese in range(0,len(mouse_bool)) if (mouse_bool[cheese] == True)]\n",
    "# mouse_id\n",
    "\n",
    "#look at that. there are a bunch of repeated values in there.\n",
    "# mice_study.loc[mice_study['Mouse ID'] == 'g989', :].head()\n",
    "\n",
    "# dropping dirty mouse\n",
    "# clean_mice = mice_study.loc[mice_study['Mouse ID'] != 'g989', :]\n",
    "# clean_mice.head()\n",
    "\n",
    "# there is one less mouse\n",
    "# clean_mice.nunique()\n",
    "\n",
    "# clean_mice.count()\n",
    "\n",
    "# clean_mice.dtypes"
   ]
  },
  {
   "cell_type": "code",
   "execution_count": 7,
   "metadata": {},
   "outputs": [
    {
     "data": {
      "text/html": [
       "<div>\n",
       "<style scoped>\n",
       "    .dataframe tbody tr th:only-of-type {\n",
       "        vertical-align: middle;\n",
       "    }\n",
       "\n",
       "    .dataframe tbody tr th {\n",
       "        vertical-align: top;\n",
       "    }\n",
       "\n",
       "    .dataframe thead th {\n",
       "        text-align: right;\n",
       "    }\n",
       "</style>\n",
       "<table border=\"1\" class=\"dataframe\">\n",
       "  <thead>\n",
       "    <tr style=\"text-align: right;\">\n",
       "      <th></th>\n",
       "      <th></th>\n",
       "      <th>Drug Regimen</th>\n",
       "      <th>Sex</th>\n",
       "      <th>Age_months</th>\n",
       "      <th>Weight (g)</th>\n",
       "      <th>Tumor Volume (mm3)</th>\n",
       "      <th>Metastatic Sites</th>\n",
       "    </tr>\n",
       "    <tr>\n",
       "      <th>Mouse ID</th>\n",
       "      <th>Timepoint</th>\n",
       "      <th></th>\n",
       "      <th></th>\n",
       "      <th></th>\n",
       "      <th></th>\n",
       "      <th></th>\n",
       "      <th></th>\n",
       "    </tr>\n",
       "  </thead>\n",
       "  <tbody>\n",
       "    <tr>\n",
       "      <th rowspan=\"5\" valign=\"top\">g989</th>\n",
       "      <th>0</th>\n",
       "      <td>2</td>\n",
       "      <td>2</td>\n",
       "      <td>2</td>\n",
       "      <td>2</td>\n",
       "      <td>2</td>\n",
       "      <td>2</td>\n",
       "    </tr>\n",
       "    <tr>\n",
       "      <th>5</th>\n",
       "      <td>2</td>\n",
       "      <td>2</td>\n",
       "      <td>2</td>\n",
       "      <td>2</td>\n",
       "      <td>2</td>\n",
       "      <td>2</td>\n",
       "    </tr>\n",
       "    <tr>\n",
       "      <th>10</th>\n",
       "      <td>2</td>\n",
       "      <td>2</td>\n",
       "      <td>2</td>\n",
       "      <td>2</td>\n",
       "      <td>2</td>\n",
       "      <td>2</td>\n",
       "    </tr>\n",
       "    <tr>\n",
       "      <th>15</th>\n",
       "      <td>2</td>\n",
       "      <td>2</td>\n",
       "      <td>2</td>\n",
       "      <td>2</td>\n",
       "      <td>2</td>\n",
       "      <td>2</td>\n",
       "    </tr>\n",
       "    <tr>\n",
       "      <th>20</th>\n",
       "      <td>2</td>\n",
       "      <td>2</td>\n",
       "      <td>2</td>\n",
       "      <td>2</td>\n",
       "      <td>2</td>\n",
       "      <td>2</td>\n",
       "    </tr>\n",
       "  </tbody>\n",
       "</table>\n",
       "</div>"
      ],
      "text/plain": [
       "                    Drug Regimen  Sex  Age_months  Weight (g)  \\\n",
       "Mouse ID Timepoint                                              \n",
       "g989     0                     2    2           2           2   \n",
       "         5                     2    2           2           2   \n",
       "         10                    2    2           2           2   \n",
       "         15                    2    2           2           2   \n",
       "         20                    2    2           2           2   \n",
       "\n",
       "                    Tumor Volume (mm3)  Metastatic Sites  \n",
       "Mouse ID Timepoint                                        \n",
       "g989     0                           2                 2  \n",
       "         5                           2                 2  \n",
       "         10                          2                 2  \n",
       "         15                          2                 2  \n",
       "         20                          2                 2  "
      ]
     },
     "execution_count": 7,
     "metadata": {},
     "output_type": "execute_result"
    }
   ],
   "source": [
    "# trying another method because mine is strange (Alyssa K gave me the spring board of a \n",
    "# groupby two things on a slack thread)\n",
    "micems = mice_study.groupby(['Mouse ID','Timepoint'])\n",
    "meese_id = micems.count().loc[micems['Timepoint'].count() > 1, :]\n",
    "meese_id\n",
    "# wow that works alot better"
   ]
  },
  {
   "cell_type": "code",
   "execution_count": 8,
   "metadata": {},
   "outputs": [
    {
     "data": {
      "text/plain": [
       "'g989'"
      ]
     },
     "execution_count": 8,
     "metadata": {},
     "output_type": "execute_result"
    }
   ],
   "source": [
    "unclean_mouse_id = meese_id.index[0][0]\n",
    "unclean_mouse_id"
   ]
  },
  {
   "cell_type": "code",
   "execution_count": 9,
   "metadata": {},
   "outputs": [],
   "source": [
    "clean_mice = mice_study.loc[mice_study['Mouse ID'] != unclean_mouse_id, :]\n",
    "# clean_mice.head()"
   ]
  },
  {
   "cell_type": "markdown",
   "metadata": {},
   "source": [
    "## Summary Statistics"
   ]
  },
  {
   "cell_type": "code",
   "execution_count": 10,
   "metadata": {},
   "outputs": [],
   "source": [
    "# clean_mice.head()"
   ]
  },
  {
   "cell_type": "code",
   "execution_count": 11,
   "metadata": {},
   "outputs": [],
   "source": [
    "# making groupby object on drug regimen\n",
    "drug_group = clean_mice.groupby('Drug Regimen')\n",
    "# drug_group"
   ]
  },
  {
   "cell_type": "markdown",
   "metadata": {},
   "source": [
    "looking at tumor size by drug regimen"
   ]
  },
  {
   "cell_type": "code",
   "execution_count": 12,
   "metadata": {},
   "outputs": [],
   "source": [
    "# finding mean (Mean Tumor Volum (mm3))\n",
    "drug_mean = drug_group['Tumor Volume (mm3)'].mean()\n",
    "# drug_mean.head(3)"
   ]
  },
  {
   "cell_type": "code",
   "execution_count": 13,
   "metadata": {},
   "outputs": [],
   "source": [
    "# finding median (Median Tumor Volume (mm3))\n",
    "drug_median = drug_group['Tumor Volume (mm3)'].median()\n",
    "# drug_median.head(3)"
   ]
  },
  {
   "cell_type": "code",
   "execution_count": 14,
   "metadata": {},
   "outputs": [],
   "source": [
    "# finding variance (Variance of Tumor Volume (mm6))\n",
    "drug_var = drug_group['Tumor Volume (mm3)'].var()\n",
    "# drug_var.head(3)"
   ]
  },
  {
   "cell_type": "code",
   "execution_count": 15,
   "metadata": {},
   "outputs": [],
   "source": [
    "# finding standard deviation (Std. Dev. of Tumor Volume (mm3))\n",
    "drug_std = drug_group['Tumor Volume (mm3)'].std()\n",
    "# drug_std.head(3)"
   ]
  },
  {
   "cell_type": "code",
   "execution_count": 16,
   "metadata": {},
   "outputs": [],
   "source": [
    "# finding SEM (SEM of Tumor Volume (mm3))\n",
    "drug_sem = drug_group['Tumor Volume (mm3)'].sem()\n",
    "# drug_sem.head(3)"
   ]
  },
  {
   "cell_type": "code",
   "execution_count": 17,
   "metadata": {},
   "outputs": [],
   "source": [
    "# getting index\n",
    "drug_index = drug_group['Drug Regimen'].unique()\n",
    "drug_index = pd.Series(drug_index)\n",
    "drug_index = drug_index.str[0]"
   ]
  },
  {
   "cell_type": "code",
   "execution_count": 18,
   "metadata": {},
   "outputs": [
    {
     "data": {
      "text/html": [
       "<div>\n",
       "<style scoped>\n",
       "    .dataframe tbody tr th:only-of-type {\n",
       "        vertical-align: middle;\n",
       "    }\n",
       "\n",
       "    .dataframe tbody tr th {\n",
       "        vertical-align: top;\n",
       "    }\n",
       "\n",
       "    .dataframe thead th {\n",
       "        text-align: right;\n",
       "    }\n",
       "</style>\n",
       "<table border=\"1\" class=\"dataframe\">\n",
       "  <thead>\n",
       "    <tr style=\"text-align: right;\">\n",
       "      <th></th>\n",
       "      <th>Mean Tumor Volum (mm3)</th>\n",
       "      <th>Median Tumor Volume (mm3)</th>\n",
       "      <th>Variance of Tumor Volume (mm6)</th>\n",
       "      <th>Std. Dev. of Tumor Volume (mm3)</th>\n",
       "      <th>SEM of Tumor Volume (mm3)</th>\n",
       "    </tr>\n",
       "    <tr>\n",
       "      <th>Drug Regimen</th>\n",
       "      <th></th>\n",
       "      <th></th>\n",
       "      <th></th>\n",
       "      <th></th>\n",
       "      <th></th>\n",
       "    </tr>\n",
       "  </thead>\n",
       "  <tbody>\n",
       "    <tr>\n",
       "      <th>Capomulin</th>\n",
       "      <td>40.675741</td>\n",
       "      <td>41.557809</td>\n",
       "      <td>24.947764</td>\n",
       "      <td>4.994774</td>\n",
       "      <td>0.329346</td>\n",
       "    </tr>\n",
       "    <tr>\n",
       "      <th>Ceftamin</th>\n",
       "      <td>52.591172</td>\n",
       "      <td>51.776157</td>\n",
       "      <td>39.290177</td>\n",
       "      <td>6.268188</td>\n",
       "      <td>0.469821</td>\n",
       "    </tr>\n",
       "    <tr>\n",
       "      <th>Infubinol</th>\n",
       "      <td>52.884795</td>\n",
       "      <td>51.820584</td>\n",
       "      <td>43.128684</td>\n",
       "      <td>6.567243</td>\n",
       "      <td>0.492236</td>\n",
       "    </tr>\n",
       "    <tr>\n",
       "      <th>Ketapril</th>\n",
       "      <td>55.235638</td>\n",
       "      <td>53.698743</td>\n",
       "      <td>68.553577</td>\n",
       "      <td>8.279709</td>\n",
       "      <td>0.603860</td>\n",
       "    </tr>\n",
       "    <tr>\n",
       "      <th>Naftisol</th>\n",
       "      <td>54.331565</td>\n",
       "      <td>52.509285</td>\n",
       "      <td>66.173479</td>\n",
       "      <td>8.134708</td>\n",
       "      <td>0.596466</td>\n",
       "    </tr>\n",
       "    <tr>\n",
       "      <th>Placebo</th>\n",
       "      <td>54.033581</td>\n",
       "      <td>52.288934</td>\n",
       "      <td>61.168083</td>\n",
       "      <td>7.821003</td>\n",
       "      <td>0.581331</td>\n",
       "    </tr>\n",
       "    <tr>\n",
       "      <th>Propriva</th>\n",
       "      <td>52.320930</td>\n",
       "      <td>50.446266</td>\n",
       "      <td>43.852013</td>\n",
       "      <td>6.622085</td>\n",
       "      <td>0.544332</td>\n",
       "    </tr>\n",
       "    <tr>\n",
       "      <th>Ramicane</th>\n",
       "      <td>40.216745</td>\n",
       "      <td>40.673236</td>\n",
       "      <td>23.486704</td>\n",
       "      <td>4.846308</td>\n",
       "      <td>0.320955</td>\n",
       "    </tr>\n",
       "    <tr>\n",
       "      <th>Stelasyn</th>\n",
       "      <td>54.233149</td>\n",
       "      <td>52.431737</td>\n",
       "      <td>59.450562</td>\n",
       "      <td>7.710419</td>\n",
       "      <td>0.573111</td>\n",
       "    </tr>\n",
       "    <tr>\n",
       "      <th>Zoniferol</th>\n",
       "      <td>53.236507</td>\n",
       "      <td>51.818479</td>\n",
       "      <td>48.533355</td>\n",
       "      <td>6.966589</td>\n",
       "      <td>0.516398</td>\n",
       "    </tr>\n",
       "  </tbody>\n",
       "</table>\n",
       "</div>"
      ],
      "text/plain": [
       "              Mean Tumor Volum (mm3)  Median Tumor Volume (mm3)  \\\n",
       "Drug Regimen                                                      \n",
       "Capomulin                  40.675741                  41.557809   \n",
       "Ceftamin                   52.591172                  51.776157   \n",
       "Infubinol                  52.884795                  51.820584   \n",
       "Ketapril                   55.235638                  53.698743   \n",
       "Naftisol                   54.331565                  52.509285   \n",
       "Placebo                    54.033581                  52.288934   \n",
       "Propriva                   52.320930                  50.446266   \n",
       "Ramicane                   40.216745                  40.673236   \n",
       "Stelasyn                   54.233149                  52.431737   \n",
       "Zoniferol                  53.236507                  51.818479   \n",
       "\n",
       "              Variance of Tumor Volume (mm6)  Std. Dev. of Tumor Volume (mm3)  \\\n",
       "Drug Regimen                                                                    \n",
       "Capomulin                          24.947764                         4.994774   \n",
       "Ceftamin                           39.290177                         6.268188   \n",
       "Infubinol                          43.128684                         6.567243   \n",
       "Ketapril                           68.553577                         8.279709   \n",
       "Naftisol                           66.173479                         8.134708   \n",
       "Placebo                            61.168083                         7.821003   \n",
       "Propriva                           43.852013                         6.622085   \n",
       "Ramicane                           23.486704                         4.846308   \n",
       "Stelasyn                           59.450562                         7.710419   \n",
       "Zoniferol                          48.533355                         6.966589   \n",
       "\n",
       "              SEM of Tumor Volume (mm3)  \n",
       "Drug Regimen                             \n",
       "Capomulin                      0.329346  \n",
       "Ceftamin                       0.469821  \n",
       "Infubinol                      0.492236  \n",
       "Ketapril                       0.603860  \n",
       "Naftisol                       0.596466  \n",
       "Placebo                        0.581331  \n",
       "Propriva                       0.544332  \n",
       "Ramicane                       0.320955  \n",
       "Stelasyn                       0.573111  \n",
       "Zoniferol                      0.516398  "
      ]
     },
     "execution_count": 18,
     "metadata": {},
     "output_type": "execute_result"
    }
   ],
   "source": [
    "# making summary table of statistics\n",
    "drug_stats_dict = {\n",
    "    'Mean Tumor Volum (mm3)': drug_mean,\n",
    "    'Median Tumor Volume (mm3)': drug_median,\n",
    "    'Variance of Tumor Volume (mm6)': drug_var,\n",
    "    'Std. Dev. of Tumor Volume (mm3)': drug_std,\n",
    "    'SEM of Tumor Volume (mm3)': drug_sem\n",
    "}\n",
    "\n",
    "# make statistical summary table\n",
    "drug_stats = pd.DataFrame(drug_stats_dict, index=drug_index)\n",
    "drug_stats"
   ]
  },
  {
   "cell_type": "markdown",
   "metadata": {},
   "source": [
    "i am interested to see if going back later and only looking at the last time point for each mouse would decrease the the std. deviation and sem, because the drugs are suppose to decrease the size of tumors over time so by looking at whole data set we are introducing a lot of error. and seems just like the wrong way to do it."
   ]
  },
  {
   "cell_type": "markdown",
   "metadata": {},
   "source": [
    "### same thing with aggregate functionality"
   ]
  },
  {
   "cell_type": "code",
   "execution_count": 19,
   "metadata": {},
   "outputs": [
    {
     "data": {
      "text/html": [
       "<div>\n",
       "<style scoped>\n",
       "    .dataframe tbody tr th:only-of-type {\n",
       "        vertical-align: middle;\n",
       "    }\n",
       "\n",
       "    .dataframe tbody tr th {\n",
       "        vertical-align: top;\n",
       "    }\n",
       "\n",
       "    .dataframe thead th {\n",
       "        text-align: right;\n",
       "    }\n",
       "</style>\n",
       "<table border=\"1\" class=\"dataframe\">\n",
       "  <thead>\n",
       "    <tr style=\"text-align: right;\">\n",
       "      <th></th>\n",
       "      <th>mean</th>\n",
       "      <th>median</th>\n",
       "      <th>var</th>\n",
       "      <th>std</th>\n",
       "      <th>sem</th>\n",
       "    </tr>\n",
       "    <tr>\n",
       "      <th>Drug Regimen</th>\n",
       "      <th></th>\n",
       "      <th></th>\n",
       "      <th></th>\n",
       "      <th></th>\n",
       "      <th></th>\n",
       "    </tr>\n",
       "  </thead>\n",
       "  <tbody>\n",
       "    <tr>\n",
       "      <th>Capomulin</th>\n",
       "      <td>40.675741</td>\n",
       "      <td>41.557809</td>\n",
       "      <td>24.947764</td>\n",
       "      <td>4.994774</td>\n",
       "      <td>0.329346</td>\n",
       "    </tr>\n",
       "    <tr>\n",
       "      <th>Ceftamin</th>\n",
       "      <td>52.591172</td>\n",
       "      <td>51.776157</td>\n",
       "      <td>39.290177</td>\n",
       "      <td>6.268188</td>\n",
       "      <td>0.469821</td>\n",
       "    </tr>\n",
       "    <tr>\n",
       "      <th>Infubinol</th>\n",
       "      <td>52.884795</td>\n",
       "      <td>51.820584</td>\n",
       "      <td>43.128684</td>\n",
       "      <td>6.567243</td>\n",
       "      <td>0.492236</td>\n",
       "    </tr>\n",
       "    <tr>\n",
       "      <th>Ketapril</th>\n",
       "      <td>55.235638</td>\n",
       "      <td>53.698743</td>\n",
       "      <td>68.553577</td>\n",
       "      <td>8.279709</td>\n",
       "      <td>0.603860</td>\n",
       "    </tr>\n",
       "    <tr>\n",
       "      <th>Naftisol</th>\n",
       "      <td>54.331565</td>\n",
       "      <td>52.509285</td>\n",
       "      <td>66.173479</td>\n",
       "      <td>8.134708</td>\n",
       "      <td>0.596466</td>\n",
       "    </tr>\n",
       "    <tr>\n",
       "      <th>Placebo</th>\n",
       "      <td>54.033581</td>\n",
       "      <td>52.288934</td>\n",
       "      <td>61.168083</td>\n",
       "      <td>7.821003</td>\n",
       "      <td>0.581331</td>\n",
       "    </tr>\n",
       "    <tr>\n",
       "      <th>Propriva</th>\n",
       "      <td>52.320930</td>\n",
       "      <td>50.446266</td>\n",
       "      <td>43.852013</td>\n",
       "      <td>6.622085</td>\n",
       "      <td>0.544332</td>\n",
       "    </tr>\n",
       "    <tr>\n",
       "      <th>Ramicane</th>\n",
       "      <td>40.216745</td>\n",
       "      <td>40.673236</td>\n",
       "      <td>23.486704</td>\n",
       "      <td>4.846308</td>\n",
       "      <td>0.320955</td>\n",
       "    </tr>\n",
       "    <tr>\n",
       "      <th>Stelasyn</th>\n",
       "      <td>54.233149</td>\n",
       "      <td>52.431737</td>\n",
       "      <td>59.450562</td>\n",
       "      <td>7.710419</td>\n",
       "      <td>0.573111</td>\n",
       "    </tr>\n",
       "    <tr>\n",
       "      <th>Zoniferol</th>\n",
       "      <td>53.236507</td>\n",
       "      <td>51.818479</td>\n",
       "      <td>48.533355</td>\n",
       "      <td>6.966589</td>\n",
       "      <td>0.516398</td>\n",
       "    </tr>\n",
       "  </tbody>\n",
       "</table>\n",
       "</div>"
      ],
      "text/plain": [
       "                   mean     median        var       std       sem\n",
       "Drug Regimen                                                     \n",
       "Capomulin     40.675741  41.557809  24.947764  4.994774  0.329346\n",
       "Ceftamin      52.591172  51.776157  39.290177  6.268188  0.469821\n",
       "Infubinol     52.884795  51.820584  43.128684  6.567243  0.492236\n",
       "Ketapril      55.235638  53.698743  68.553577  8.279709  0.603860\n",
       "Naftisol      54.331565  52.509285  66.173479  8.134708  0.596466\n",
       "Placebo       54.033581  52.288934  61.168083  7.821003  0.581331\n",
       "Propriva      52.320930  50.446266  43.852013  6.622085  0.544332\n",
       "Ramicane      40.216745  40.673236  23.486704  4.846308  0.320955\n",
       "Stelasyn      54.233149  52.431737  59.450562  7.710419  0.573111\n",
       "Zoniferol     53.236507  51.818479  48.533355  6.966589  0.516398"
      ]
     },
     "execution_count": 19,
     "metadata": {},
     "output_type": "execute_result"
    }
   ],
   "source": [
    "agg_drug_stats = drug_group['Tumor Volume (mm3)'].aggregate(['mean','median','var','std','sem'])\n",
    "agg_drug_stats"
   ]
  },
  {
   "cell_type": "markdown",
   "metadata": {},
   "source": [
    "awesome how it does the same thing. with a few more lines i could even change column titles to make it exactly identical."
   ]
  },
  {
   "cell_type": "markdown",
   "metadata": {},
   "source": [
    "# Bars and Pie Charts"
   ]
  },
  {
   "cell_type": "code",
   "execution_count": 20,
   "metadata": {},
   "outputs": [],
   "source": [
    "# Generate a bar plot showing the total number of measurements taken on each drug regimen using pandas.\n",
    "num_meas = drug_group['Timepoint'].count()\n",
    "# num_meas.head(3)"
   ]
  },
  {
   "cell_type": "code",
   "execution_count": 21,
   "metadata": {},
   "outputs": [],
   "source": [
    "x_axis = np.arange(len(drug_index))\n",
    "tick_location = [value for value in x_axis]"
   ]
  },
  {
   "cell_type": "code",
   "execution_count": 22,
   "metadata": {},
   "outputs": [],
   "source": [
    "# this should help with my list object not callable typeerror\n",
    "drug_array = drug_index.to_numpy()\n",
    "# drug_array"
   ]
  },
  {
   "cell_type": "code",
   "execution_count": 23,
   "metadata": {},
   "outputs": [
    {
     "data": {
      "image/png": "[encoded data removed]",
      "text/plain": [
       "<Figure size 576x432 with 1 Axes>"
      ]
     },
     "metadata": {
      "needs_background": "light"
     },
     "output_type": "display_data"
    }
   ],
   "source": [
    "# plotting count of total measurments for each drug regiment using Matplotlib\n",
    "plt.figure(figsize=(8,6))\n",
    "plt.bar(x_axis, num_meas, color='g', edgecolor='black')\n",
    "plt.xticks(tick_location, drug_array, rotation=90)\n",
    "plt.title('Total Number of Measurements Taken on Each Drug Regimen (pyplot)')\n",
    "plt.xlabel('Drug Regimen')\n",
    "plt.ylabel('Number of Measuremtents Taken')\n",
    "plt.tight_layout()\n",
    "plt.show()"
   ]
  },
  {
   "cell_type": "code",
   "execution_count": 24,
   "metadata": {},
   "outputs": [],
   "source": [
    "# clean_mice.head()"
   ]
  },
  {
   "cell_type": "code",
   "execution_count": 25,
   "metadata": {},
   "outputs": [
    {
     "data": {
      "image/png": "[encoded data removed]",
      "text/plain": [
       "<Figure size 576x432 with 1 Axes>"
      ]
     },
     "metadata": {
      "needs_background": "light"
     },
     "output_type": "display_data"
    }
   ],
   "source": [
    "# plotting count of total measurments for each drug regiment using panda\n",
    "num_meas.plot(kind='bar', figsize=(8,6), color='g', width=.8, edgecolor='black',\n",
    "              title='Total Number of Measurements Taken on Each Drug Regimen (pandas)')\n",
    "plt.ylabel('Number of Measuremtents Taken')\n",
    "plt.show()"
   ]
  },
  {
   "cell_type": "code",
   "execution_count": 26,
   "metadata": {},
   "outputs": [],
   "source": [
    "# Generate a pie plot showing the distribution of female versus male mice using pandas\n",
    "\n",
    "# making series to work on\n",
    "gender_group = clean_mice.groupby('Sex')\n",
    "num_gender = gender_group['Sex'].count()\n",
    "# num_gender"
   ]
  },
  {
   "cell_type": "code",
   "execution_count": 27,
   "metadata": {},
   "outputs": [
    {
     "data": {
      "image/png": "[encoded data removed]",
      "text/plain": [
       "<Figure size 432x288 with 1 Axes>"
      ]
     },
     "metadata": {},
     "output_type": "display_data"
    }
   ],
   "source": [
    "# creating pie chart\n",
    "color = ['lightblue','lightgreen']\n",
    "num_gender.plot(kind='pie', y='Sex', title='Distribution of Female VS Male Mice (pandas)', startangle=90,\n",
    "               autopct='%1.1f%%', shadow=True, colors=color)\n",
    "plt.axis('equal')\n",
    "plt.show()"
   ]
  },
  {
   "cell_type": "code",
   "execution_count": 28,
   "metadata": {},
   "outputs": [],
   "source": [
    "# Generate a pie plot showing the distribution of female versus male mice using pyplot\n",
    "# making labels\n",
    "g_labels = gender_group['Sex'].unique()\n",
    "pd.Series(g_labels)\n",
    "g_labels = g_labels.str[0]"
   ]
  },
  {
   "cell_type": "code",
   "execution_count": 29,
   "metadata": {},
   "outputs": [
    {
     "data": {
      "image/png": "[encoded data removed]",
      "text/plain": [
       "<Figure size 432x288 with 1 Axes>"
      ]
     },
     "metadata": {},
     "output_type": "display_data"
    }
   ],
   "source": [
    "# making plot with pyplot\n",
    "plt.pie(num_gender, labels=g_labels, shadow=True, colors=color, autopct='%1.1f%%', startangle=90)\n",
    "plt.title('Distribution of Female VS Male Mice (pyplot)')\n",
    "plt.ylabel('Sex')\n",
    "plt.axis('equal')\n",
    "plt.show()"
   ]
  },
  {
   "cell_type": "markdown",
   "metadata": {},
   "source": [
    "# Quartiles, Outliers and Boxplots"
   ]
  },
  {
   "cell_type": "code",
   "execution_count": 30,
   "metadata": {},
   "outputs": [],
   "source": [
    "# clean_mice.head()"
   ]
  },
  {
   "cell_type": "code",
   "execution_count": 31,
   "metadata": {},
   "outputs": [
    {
     "data": {
      "text/html": [
       "<div>\n",
       "<style scoped>\n",
       "    .dataframe tbody tr th:only-of-type {\n",
       "        vertical-align: middle;\n",
       "    }\n",
       "\n",
       "    .dataframe tbody tr th {\n",
       "        vertical-align: top;\n",
       "    }\n",
       "\n",
       "    .dataframe thead th {\n",
       "        text-align: right;\n",
       "    }\n",
       "</style>\n",
       "<table border=\"1\" class=\"dataframe\">\n",
       "  <thead>\n",
       "    <tr style=\"text-align: right;\">\n",
       "      <th></th>\n",
       "      <th>Mouse ID</th>\n",
       "      <th>Drug Regimen</th>\n",
       "      <th>Sex</th>\n",
       "      <th>Age_months</th>\n",
       "      <th>Weight (g)</th>\n",
       "      <th>Timepoint</th>\n",
       "      <th>Tumor Volume (mm3)</th>\n",
       "      <th>Metastatic Sites</th>\n",
       "    </tr>\n",
       "  </thead>\n",
       "  <tbody>\n",
       "    <tr>\n",
       "      <th>0</th>\n",
       "      <td>k403</td>\n",
       "      <td>Ramicane</td>\n",
       "      <td>Male</td>\n",
       "      <td>21</td>\n",
       "      <td>16</td>\n",
       "      <td>0</td>\n",
       "      <td>45.000000</td>\n",
       "      <td>0</td>\n",
       "    </tr>\n",
       "    <tr>\n",
       "      <th>1</th>\n",
       "      <td>k403</td>\n",
       "      <td>Ramicane</td>\n",
       "      <td>Male</td>\n",
       "      <td>21</td>\n",
       "      <td>16</td>\n",
       "      <td>5</td>\n",
       "      <td>38.825898</td>\n",
       "      <td>0</td>\n",
       "    </tr>\n",
       "    <tr>\n",
       "      <th>2</th>\n",
       "      <td>k403</td>\n",
       "      <td>Ramicane</td>\n",
       "      <td>Male</td>\n",
       "      <td>21</td>\n",
       "      <td>16</td>\n",
       "      <td>10</td>\n",
       "      <td>35.014271</td>\n",
       "      <td>1</td>\n",
       "    </tr>\n",
       "    <tr>\n",
       "      <th>3</th>\n",
       "      <td>k403</td>\n",
       "      <td>Ramicane</td>\n",
       "      <td>Male</td>\n",
       "      <td>21</td>\n",
       "      <td>16</td>\n",
       "      <td>15</td>\n",
       "      <td>34.223992</td>\n",
       "      <td>1</td>\n",
       "    </tr>\n",
       "    <tr>\n",
       "      <th>4</th>\n",
       "      <td>k403</td>\n",
       "      <td>Ramicane</td>\n",
       "      <td>Male</td>\n",
       "      <td>21</td>\n",
       "      <td>16</td>\n",
       "      <td>20</td>\n",
       "      <td>32.997729</td>\n",
       "      <td>1</td>\n",
       "    </tr>\n",
       "  </tbody>\n",
       "</table>\n",
       "</div>"
      ],
      "text/plain": [
       "  Mouse ID Drug Regimen   Sex  Age_months  Weight (g)  Timepoint  \\\n",
       "0     k403     Ramicane  Male          21          16          0   \n",
       "1     k403     Ramicane  Male          21          16          5   \n",
       "2     k403     Ramicane  Male          21          16         10   \n",
       "3     k403     Ramicane  Male          21          16         15   \n",
       "4     k403     Ramicane  Male          21          16         20   \n",
       "\n",
       "   Tumor Volume (mm3)  Metastatic Sites  \n",
       "0           45.000000                 0  \n",
       "1           38.825898                 0  \n",
       "2           35.014271                 1  \n",
       "3           34.223992                 1  \n",
       "4           32.997729                 1  "
      ]
     },
     "execution_count": 31,
     "metadata": {},
     "output_type": "execute_result"
    }
   ],
   "source": [
    "# making list of all drugs i want to include\n",
    "drugs = ['Capomulin', 'Ramicane', 'Infubinol', 'Ceftamin']\n",
    "\n",
    "# making new df that only includes them\n",
    "drug_df = clean_mice.loc[(clean_mice['Drug Regimen'] == drugs[0]) | \n",
    "                         (clean_mice['Drug Regimen'] == drugs[1]) |\n",
    "                         (clean_mice['Drug Regimen'] == drugs[2]) | \n",
    "                         (clean_mice['Drug Regimen'] == drugs[3]), :]\n",
    "drug_df.head()"
   ]
  },
  {
   "cell_type": "code",
   "execution_count": 32,
   "metadata": {},
   "outputs": [
    {
     "data": {
      "text/plain": [
       "Mouse ID\n",
       "a203    45\n",
       "a251    45\n",
       "a275    45\n",
       "a411    45\n",
       "a444    45\n",
       "Name: Timepoint, dtype: int64"
      ]
     },
     "execution_count": 32,
     "metadata": {},
     "output_type": "execute_result"
    }
   ],
   "source": [
    "# now i group by mouse and find greatest timepoint\n",
    "mousy_group = drug_df.groupby('Mouse ID')\n",
    "final_tumor = mousy_group['Timepoint'].max()\n",
    "final_tumor.head()"
   ]
  },
  {
   "cell_type": "code",
   "execution_count": 33,
   "metadata": {},
   "outputs": [],
   "source": [
    "# just ignore this whole bit\n",
    "\n",
    "# final_tumor_df = drug_df.loc[([drug_df['Mouse ID'] == i for i in final_tumor.index]) and\n",
    "#                                ([drug_df['Timepoint'] == x for x in final_tumor]), :] \n",
    "# that might be a little to abitiuos (and doesn't work)\n",
    "# final_tumor_df = drug_df.loc[drug_df['Timepoint'] == 45, :]\n",
    "# final_tumor_df.head()\n",
    "# new df that is only those four drugs and final tumor sizes"
   ]
  },
  {
   "cell_type": "code",
   "execution_count": 34,
   "metadata": {},
   "outputs": [],
   "source": [
    "# merging on both mouse id and timepoint to get only those mice and timepoints\n",
    "final_tumor_mice = clean_mice.merge(final_tumor, how='inner', on= ['Mouse ID','Timepoint'])\n",
    "# final_tumor_mice.head()"
   ]
  },
  {
   "cell_type": "code",
   "execution_count": 35,
   "metadata": {},
   "outputs": [
    {
     "name": "stdout",
     "output_type": "stream",
     "text": [
      "Capomulin\n",
      "0.25    32.377357\n",
      "0.50    38.125164\n",
      "0.75    40.159220\n",
      "Name: Tumor Volume (mm3), dtype: float64\n",
      "For Capomulin these are the potential outliers\n",
      "[]\n",
      "IQR for Capomulin is 7.781863460000004\n",
      "Upper Bound for Capomulin are 51.83201549\n",
      "Lower Bound for Capomulin are 20.70456164999999\n",
      "\n",
      "Ramicane\n",
      "0.25    31.560470\n",
      "0.50    36.561652\n",
      "0.75    40.659006\n",
      "Name: Tumor Volume (mm3), dtype: float64\n",
      "For Ramicane these are the potential outliers\n",
      "[]\n",
      "IQR for Ramicane is 9.098536719999998\n",
      "Upper Bound for Ramicane are 54.30681135\n",
      "Lower Bound for Ramicane are 17.912664470000003\n",
      "\n",
      "Infubinol\n",
      "0.25    54.048608\n",
      "0.50    60.165180\n",
      "0.75    65.525743\n",
      "Name: Tumor Volume (mm3), dtype: float64\n",
      "For Infubinol these are the potential outliers\n",
      "[36.321345799999996]\n",
      "IQR for Infubinol is 11.477135160000003\n",
      "Upper Bound for Infubinol are 82.74144559000001\n",
      "Lower Bound for Infubinol are 36.83290494999999\n",
      "\n",
      "Ceftamin\n",
      "0.25    48.722078\n",
      "0.50    59.851956\n",
      "0.75    64.299830\n",
      "Name: Tumor Volume (mm3), dtype: float64\n",
      "For Ceftamin these are the potential outliers\n",
      "[]\n",
      "IQR for Ceftamin is 15.577752179999997\n",
      "Upper Bound for Ceftamin are 87.66645829999999\n",
      "Lower Bound for Ceftamin are 25.355449580000002\n",
      "\n"
     ]
    }
   ],
   "source": [
    "# Put treatments into a list for for loop (and later for plot labels)\n",
    "# drugs = ['Capomulin', 'Ramicane', 'Infubinol', 'Ceftamin']\n",
    "\n",
    "# Create empty list to fill with tumor vol data (for plotting)\n",
    "tumor_vol_data = []\n",
    "quartiles = []\n",
    "\n",
    "# Calculate the IQR and quantitatively determine if there are any potential outliers. \n",
    "for i in range(len(drugs)):\n",
    "    \n",
    "    # Locate the rows which contain mice on each drug and get the tumor volumes\n",
    "    # tumor_vol_data is a list of lists of the data corrisonding to each drug\n",
    "    tumor_this_drug = final_tumor_mice.loc[final_tumor_mice['Drug Regimen'] == drugs[i], 'Tumor Volume (mm3)']\n",
    "    \n",
    "    # add subset \n",
    "    tumor_vol_data.append(tumor_this_drug)\n",
    "\n",
    "    # Determine outliers using upper and lower bounds\n",
    "    quartiles.append(tumor_vol_data[i].quantile([0.25,0.5,0.75]))\n",
    "    \n",
    "    # print drug name and quartiles\n",
    "    print(drugs[i])\n",
    "    print(quartiles[i])\n",
    "    \n",
    "    lowerq = quartiles[i][0.25]\n",
    "    upperq = quartiles[i][0.75]\n",
    "    iqr = upperq-lowerq\n",
    "    upperb = upperq + (1.5 * iqr)\n",
    "    lowerb = lowerq - (1.5 * iqr)\n",
    "   \n",
    "    # figuring out if there are any outliers in the data.\n",
    "    outliers = []\n",
    "    \n",
    "    for tumor in tumor_vol_data[i]:\n",
    "        \n",
    "        if tumor > upperb or tumor < lowerb:\n",
    "            outliers.append(tumor)\n",
    "            \n",
    "    print(f'For {drugs[i]} these are the potential outliers')\n",
    "    print(outliers)\n",
    "    \n",
    "    print(f'IQR for {drugs[i]} is {iqr}')\n",
    "    print(f'Upper Bound for {drugs[i]} are {upperb}')\n",
    "    print(f'Lower Bound for {drugs[i]} are {lowerb}')\n",
    "    print('')"
   ]
  },
  {
   "cell_type": "code",
   "execution_count": 36,
   "metadata": {},
   "outputs": [
    {
     "data": {
      "image/png": "[encoded data removed]",
      "text/plain": [
       "<Figure size 360x288 with 1 Axes>"
      ]
     },
     "metadata": {
      "needs_background": "light"
     },
     "output_type": "display_data"
    }
   ],
   "source": [
    "# making a box plot\n",
    "plt.figure(figsize=(5,4))\n",
    "plt.boxplot(tumor_vol_data, labels=drugs, sym='ro')\n",
    "\n",
    "plt.title('Final Tumor Size By Drug Regimen')\n",
    "plt.xlabel('Drug Regimen')\n",
    "plt.ylabel('Size of Tumor (mm3)')\n",
    "\n",
    "plt.ylim(0,80)\n",
    "plt.grid(alpha=.25)\n",
    "\n",
    "plt.tight_layout()\n",
    "plt.show()"
   ]
  },
  {
   "cell_type": "markdown",
   "metadata": {},
   "source": [
    "# Line and Scatter Plots"
   ]
  },
  {
   "cell_type": "code",
   "execution_count": 37,
   "metadata": {},
   "outputs": [],
   "source": [
    "# clean_mice.head()"
   ]
  },
  {
   "cell_type": "code",
   "execution_count": 38,
   "metadata": {},
   "outputs": [],
   "source": [
    "# Generate a line plot of tumor volume vs. time point for a mouse treated with Capomulin\n",
    "\n",
    "# making new df of only Campomulin mice\n",
    "cap_mice = clean_mice.loc[clean_mice['Drug Regimen'] == 'Capomulin', :]\n",
    "# cap_mice.head()"
   ]
  },
  {
   "cell_type": "code",
   "execution_count": 39,
   "metadata": {},
   "outputs": [],
   "source": [
    "random.seed(21) "
   ]
  },
  {
   "cell_type": "code",
   "execution_count": 53,
   "metadata": {},
   "outputs": [],
   "source": [
    "# selecting a random mouse\n",
    "# a_mouse = random.choice(cap_mice['Mouse ID'])\n",
    "# a_mouse\n",
    "# I was getting an keyerror when i ran this a third time the way i had it above so i found out\n",
    "#if i pass it as a list it works\n",
    "# https://stackoverflow.com/questions/45317725/python-3-5-3-keyerror-0-returned-from-random-choice\n",
    "\n",
    "a_mouse = random.choice(list(cap_mice['Mouse ID']))\n",
    "\n",
    "# i like doing it this way because i can get a random mouse (and if i restart my kernel the same random mouse)\n",
    "# but if i want to i can by pass all that and just select the mouse i want and set a_mouse to be what i want.\n",
    "\n",
    "# a_mouse = g288"
   ]
  },
  {
   "cell_type": "code",
   "execution_count": 54,
   "metadata": {},
   "outputs": [
    {
     "data": {
      "text/html": [
       "<div>\n",
       "<style scoped>\n",
       "    .dataframe tbody tr th:only-of-type {\n",
       "        vertical-align: middle;\n",
       "    }\n",
       "\n",
       "    .dataframe tbody tr th {\n",
       "        vertical-align: top;\n",
       "    }\n",
       "\n",
       "    .dataframe thead th {\n",
       "        text-align: right;\n",
       "    }\n",
       "</style>\n",
       "<table border=\"1\" class=\"dataframe\">\n",
       "  <thead>\n",
       "    <tr style=\"text-align: right;\">\n",
       "      <th></th>\n",
       "      <th>Mouse ID</th>\n",
       "      <th>Drug Regimen</th>\n",
       "      <th>Sex</th>\n",
       "      <th>Age_months</th>\n",
       "      <th>Weight (g)</th>\n",
       "      <th>Timepoint</th>\n",
       "      <th>Tumor Volume (mm3)</th>\n",
       "      <th>Metastatic Sites</th>\n",
       "    </tr>\n",
       "  </thead>\n",
       "  <tbody>\n",
       "    <tr>\n",
       "      <th>235</th>\n",
       "      <td>g288</td>\n",
       "      <td>Capomulin</td>\n",
       "      <td>Male</td>\n",
       "      <td>3</td>\n",
       "      <td>19</td>\n",
       "      <td>0</td>\n",
       "      <td>45.000000</td>\n",
       "      <td>0</td>\n",
       "    </tr>\n",
       "    <tr>\n",
       "      <th>236</th>\n",
       "      <td>g288</td>\n",
       "      <td>Capomulin</td>\n",
       "      <td>Male</td>\n",
       "      <td>3</td>\n",
       "      <td>19</td>\n",
       "      <td>5</td>\n",
       "      <td>45.839400</td>\n",
       "      <td>0</td>\n",
       "    </tr>\n",
       "    <tr>\n",
       "      <th>237</th>\n",
       "      <td>g288</td>\n",
       "      <td>Capomulin</td>\n",
       "      <td>Male</td>\n",
       "      <td>3</td>\n",
       "      <td>19</td>\n",
       "      <td>10</td>\n",
       "      <td>46.304003</td>\n",
       "      <td>1</td>\n",
       "    </tr>\n",
       "    <tr>\n",
       "      <th>238</th>\n",
       "      <td>g288</td>\n",
       "      <td>Capomulin</td>\n",
       "      <td>Male</td>\n",
       "      <td>3</td>\n",
       "      <td>19</td>\n",
       "      <td>15</td>\n",
       "      <td>42.172301</td>\n",
       "      <td>1</td>\n",
       "    </tr>\n",
       "    <tr>\n",
       "      <th>239</th>\n",
       "      <td>g288</td>\n",
       "      <td>Capomulin</td>\n",
       "      <td>Male</td>\n",
       "      <td>3</td>\n",
       "      <td>19</td>\n",
       "      <td>20</td>\n",
       "      <td>42.957120</td>\n",
       "      <td>1</td>\n",
       "    </tr>\n",
       "    <tr>\n",
       "      <th>240</th>\n",
       "      <td>g288</td>\n",
       "      <td>Capomulin</td>\n",
       "      <td>Male</td>\n",
       "      <td>3</td>\n",
       "      <td>19</td>\n",
       "      <td>25</td>\n",
       "      <td>42.368692</td>\n",
       "      <td>1</td>\n",
       "    </tr>\n",
       "    <tr>\n",
       "      <th>241</th>\n",
       "      <td>g288</td>\n",
       "      <td>Capomulin</td>\n",
       "      <td>Male</td>\n",
       "      <td>3</td>\n",
       "      <td>19</td>\n",
       "      <td>30</td>\n",
       "      <td>42.874461</td>\n",
       "      <td>1</td>\n",
       "    </tr>\n",
       "    <tr>\n",
       "      <th>242</th>\n",
       "      <td>g288</td>\n",
       "      <td>Capomulin</td>\n",
       "      <td>Male</td>\n",
       "      <td>3</td>\n",
       "      <td>19</td>\n",
       "      <td>35</td>\n",
       "      <td>38.954115</td>\n",
       "      <td>1</td>\n",
       "    </tr>\n",
       "    <tr>\n",
       "      <th>243</th>\n",
       "      <td>g288</td>\n",
       "      <td>Capomulin</td>\n",
       "      <td>Male</td>\n",
       "      <td>3</td>\n",
       "      <td>19</td>\n",
       "      <td>40</td>\n",
       "      <td>36.356851</td>\n",
       "      <td>1</td>\n",
       "    </tr>\n",
       "    <tr>\n",
       "      <th>244</th>\n",
       "      <td>g288</td>\n",
       "      <td>Capomulin</td>\n",
       "      <td>Male</td>\n",
       "      <td>3</td>\n",
       "      <td>19</td>\n",
       "      <td>45</td>\n",
       "      <td>37.074024</td>\n",
       "      <td>1</td>\n",
       "    </tr>\n",
       "  </tbody>\n",
       "</table>\n",
       "</div>"
      ],
      "text/plain": [
       "    Mouse ID Drug Regimen   Sex  Age_months  Weight (g)  Timepoint  \\\n",
       "235     g288    Capomulin  Male           3          19          0   \n",
       "236     g288    Capomulin  Male           3          19          5   \n",
       "237     g288    Capomulin  Male           3          19         10   \n",
       "238     g288    Capomulin  Male           3          19         15   \n",
       "239     g288    Capomulin  Male           3          19         20   \n",
       "240     g288    Capomulin  Male           3          19         25   \n",
       "241     g288    Capomulin  Male           3          19         30   \n",
       "242     g288    Capomulin  Male           3          19         35   \n",
       "243     g288    Capomulin  Male           3          19         40   \n",
       "244     g288    Capomulin  Male           3          19         45   \n",
       "\n",
       "     Tumor Volume (mm3)  Metastatic Sites  \n",
       "235           45.000000                 0  \n",
       "236           45.839400                 0  \n",
       "237           46.304003                 1  \n",
       "238           42.172301                 1  \n",
       "239           42.957120                 1  \n",
       "240           42.368692                 1  \n",
       "241           42.874461                 1  \n",
       "242           38.954115                 1  \n",
       "243           36.356851                 1  \n",
       "244           37.074024                 1  "
      ]
     },
     "execution_count": 54,
     "metadata": {},
     "output_type": "execute_result"
    }
   ],
   "source": [
    "# cutting down the datafrome to be only that mouse\n",
    "that_mouse = cap_mice.loc[cap_mice['Mouse ID'] == a_mouse, :]\n",
    "that_mouse"
   ]
  },
  {
   "cell_type": "code",
   "execution_count": 55,
   "metadata": {},
   "outputs": [
    {
     "data": {
      "image/png": "[encoded data removed]",
      "text/plain": [
       "<Figure size 432x288 with 1 Axes>"
      ]
     },
     "metadata": {
      "needs_background": "light"
     },
     "output_type": "display_data"
    }
   ],
   "source": [
    "# let us plot that mouse (originally looked at t565)\n",
    "that_mouse.plot(x='Timepoint', y='Tumor Volume (mm3)', color='green')\n",
    "\n",
    "plt.grid(alpha=.3)\n",
    "\n",
    "plt.title(f'Tumor Volume Over Time For Mouse {a_mouse}')\n",
    "plt.ylabel('Tumor Size (mm3)')\n",
    "plt.legend(loc='best', labels=[f'Mouse {a_mouse}'])\n",
    "\n",
    "plt.xlim(0,max(that_mouse['Timepoint']))\n",
    "plt.ylim(min(that_mouse['Tumor Volume (mm3)']) - 5, max(that_mouse['Tumor Volume (mm3)']) + 5)\n",
    "\n",
    "plt.show()"
   ]
  },
  {
   "cell_type": "code",
   "execution_count": 43,
   "metadata": {},
   "outputs": [],
   "source": [
    "# Generate a scatter plot of average tumor volume vs. mouse weight for the Capomulin regimen\n",
    "# cap_mice.head()"
   ]
  },
  {
   "cell_type": "code",
   "execution_count": 44,
   "metadata": {},
   "outputs": [],
   "source": [
    "# i am going to group by mouse that take average of both tumor volume and weight and plot them\n",
    "cap_by_mouse = cap_mice.groupby('Mouse ID')\n",
    "\n",
    "avg_tumor = cap_by_mouse['Tumor Volume (mm3)'].mean()\n",
    "\n",
    "# i am taking the average but since they are static i is really just grabbing the number for me\n",
    "weight = cap_by_mouse['Weight (g)'].mean()"
   ]
  },
  {
   "cell_type": "code",
   "execution_count": 45,
   "metadata": {},
   "outputs": [
    {
     "data": {
      "image/png": "[encoded data removed]",
      "text/plain": [
       "<Figure size 720x576 with 1 Axes>"
      ]
     },
     "metadata": {
      "needs_background": "light"
     },
     "output_type": "display_data"
    }
   ],
   "source": [
    "# plotting\n",
    "plt.figure(figsize=(10,8))\n",
    "plt.scatter(weight, avg_tumor, color='lightblue', edgecolor='black')\n",
    "\n",
    "plt.grid(alpha=.5)\n",
    "\n",
    "plt.title('Average Tumor Size VS Weight')\n",
    "plt.xlabel('Weight (g)')\n",
    "plt.ylabel('Tumor Volume (mm3)')\n",
    "\n",
    "plt.xlim(min(weight)-0.25,max(weight)+0.25)\n",
    "plt.ylim(min(avg_tumor)-1,max(avg_tumor)+1)\n",
    "\n",
    "plt.show()"
   ]
  },
  {
   "cell_type": "markdown",
   "metadata": {},
   "source": [
    "# Correlation and Regression"
   ]
  },
  {
   "cell_type": "code",
   "execution_count": 46,
   "metadata": {},
   "outputs": [
    {
     "name": "stdout",
     "output_type": "stream",
     "text": [
      "The correlation between a mice weight and tumor size is 0.8419363424694717.\n"
     ]
    }
   ],
   "source": [
    "# Calculate the correlation coefficient and linear regression model \n",
    "# for mouse weight and average tumor volume for the Capomulin regimen\n",
    "correlation = st.pearsonr(weight,avg_tumor)\n",
    "print(f'The correlation between a mice weight and tumor size is {correlation[0]}.')\n"
   ]
  },
  {
   "cell_type": "code",
   "execution_count": 56,
   "metadata": {},
   "outputs": [
    {
     "name": "stdout",
     "output_type": "stream",
     "text": [
      "The r value is 0.7088568047708717\n"
     ]
    },
    {
     "data": {
      "image/png": "[encoded data removed]",
      "text/plain": [
       "<Figure size 720x576 with 1 Axes>"
      ]
     },
     "metadata": {
      "needs_background": "light"
     },
     "output_type": "display_data"
    }
   ],
   "source": [
    "# linear regression\n",
    "(slope, intercept, rvalue, pvalue, stderr) = st.linregress(weight, avg_tumor)\n",
    "regress_line = slope * weight + intercept\n",
    "\n",
    "print(f'The r value is {rvalue**2}')\n",
    "# plotting again, same but with linear regression line\n",
    "plt.figure(figsize=(10,8))\n",
    "plt.scatter(weight, avg_tumor, color='lightblue', edgecolor='black')\n",
    "plt.plot(weight, regress_line, color='crimson')\n",
    "\n",
    "plt.grid(alpha=.5)\n",
    "\n",
    "written_regress = f'y = {slope:.2f}x + {intercept:.2f}'\n",
    "# print(written_regress)\n",
    "plt.annotate(written_regress, (19,38), fontsize=15, color='r')\n",
    "\n",
    "plt.title('Average Tumor Size VS Weight')\n",
    "plt.xlabel('Weight (g)')\n",
    "plt.ylabel('Tumor Volume (mm3)')\n",
    "\n",
    "plt.xlim(min(weight)-0.25,max(weight)+0.25)\n",
    "plt.ylim(min(avg_tumor)-1,max(avg_tumor)+1)\n",
    "\n",
    "plt.show()"
   ]
  },
  {
   "cell_type": "markdown",
   "metadata": {},
   "source": [
    "# My Observations"
   ]
  },
  {
   "cell_type": "markdown",
   "metadata": {},
   "source": [
    "## Capomulin Seems Effective\n",
    "After looking at a few mice from the capomulin remimen, I noticed that the tumors decrease in size steadily over time. Which would indicate that perhaps the drug is working. Obviously looking at a couple of graphs of a couple of mice is not enough to say definatifly that this drug is effective but it could be."
   ]
  },
  {
   "cell_type": "markdown",
   "metadata": {},
   "source": [
    "## There is a Strong Correlation Between Tumor size and Weight of Mice\n",
    "Bigger mice have bigger tumors. Makes sense. And this correlatoin coefficent backs up that assumption. This one just matches what we experience in our world everyday, bigger things mean bigger other things. It would feel weird if somehow the smaller mice had bigger tumors. But i guess there could have been no correlation and tumor size could have had nothing to do with size of mouse."
   ]
  },
  {
   "cell_type": "markdown",
   "metadata": {},
   "source": [
    "## Lowest Median\n",
    "The two regimens with the highest number of measurments taken where capomulin and ramicane. They were included in our boxplot of the four most effective regimens and of those four and the noticably lower medians and the smaller iqrs. I just found it interesting that the most effective drugs regimens were also the most thouroghly tested."
   ]
  },
  {
   "cell_type": "code",
   "execution_count": null,
   "metadata": {},
   "outputs": [],
   "source": []
  }
 ],
 "metadata": {
  "kernelspec": {
   "display_name": "Python 3",
   "language": "python",
   "name": "python3"
  },
  "language_info": {
   "codemirror_mode": {
    "name": "ipython",
    "version": 3
   },
   "file_extension": ".py",
   "mimetype": "text/x-python",
   "name": "python",
   "nbconvert_exporter": "python",
   "pygments_lexer": "ipython3",
   "version": "3.6.10"
  }
 },
 "nbformat": 4,
 "nbformat_minor": 4
}
